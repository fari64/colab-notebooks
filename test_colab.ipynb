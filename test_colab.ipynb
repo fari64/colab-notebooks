{
 "cells": [
  {
   "cell_type": "markdown",
   "id": "1468c5fc",
   "metadata": {},
   "source": [
    "This is a colab testing Notebook..."
   ]
  },
  {
   "cell_type": "code",
   "execution_count": 1,
   "id": "890e0107",
   "metadata": {},
   "outputs": [
    {
     "name": "stdout",
     "output_type": "stream",
     "text": [
      "20\n"
     ]
    }
   ],
   "source": [
    "x = 20\n",
    "y = 31\n",
    "print(x)"
   ]
  }
 ],
 "metadata": {
  "kernelspec": {
   "display_name": "Python 3 (ipykernel)",
   "language": "python",
   "name": "python3"
  },
  "language_info": {
   "codemirror_mode": {
    "name": "ipython",
    "version": 3
   },
   "file_extension": ".py",
   "mimetype": "text/x-python",
   "name": "python",
   "nbconvert_exporter": "python",
   "pygments_lexer": "ipython3",
   "version": "3.9.12"
  }
 },
 "nbformat": 4,
 "nbformat_minor": 5
}
