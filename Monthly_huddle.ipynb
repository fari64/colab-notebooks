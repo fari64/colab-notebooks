{
  "cells": [
    {
      "cell_type": "code",
      "execution_count": null,
      "id": "d23dbd47",
      "metadata": {
        "id": "d23dbd47"
      },
      "outputs": [],
      "source": [
        "##Image to Speech Application"
      ]
    },
    {
      "cell_type": "markdown",
      "source": [
        "**Image to Audio Story Application** : An application that creates a story of the uploaded photo and makes a voiceover for it.\n",
        "\n",
        "There will be 3 components of the app:\n",
        "\n",
        "\n",
        "1.   Image to text model: To cretae a text from the uploaded photo\n",
        "2.   Text generation model:  to generate a short story\n",
        "3.   Text to speech model: To generate a audio story\n",
        "\n"
      ],
      "metadata": {
        "id": "PM14eUtDmuHY"
      },
      "id": "PM14eUtDmuHY"
    },
    {
      "cell_type": "code",
      "execution_count": 1,
      "id": "8ad6339f",
      "metadata": {
        "id": "8ad6339f"
      },
      "outputs": [],
      "source": [
        "# 1- Image 2 text : The model for the machine to understand what is the scenario based on a photo.\n",
        "\n"
      ]
    },
    {
      "cell_type": "code",
      "source": [
        "# 2- Large Language Model : To cretae a short story based on the scenarion from previous model"
      ],
      "metadata": {
        "id": "MzE8HK5Vomyu"
      },
      "id": "MzE8HK5Vomyu",
      "execution_count": null,
      "outputs": []
    },
    {
      "cell_type": "code",
      "source": [
        "# 3- text to speech Model : This model will give voice to the story being created"
      ],
      "metadata": {
        "id": "5WDtEFwsoyLs"
      },
      "id": "5WDtEFwsoyLs",
      "execution_count": null,
      "outputs": []
    },
    {
      "cell_type": "code",
      "execution_count": null,
      "id": "d31bcc7e",
      "metadata": {
        "id": "d31bcc7e"
      },
      "outputs": [],
      "source": []
    },
    {
      "cell_type": "code",
      "execution_count": null,
      "id": "89ebac68",
      "metadata": {
        "id": "89ebac68"
      },
      "outputs": [],
      "source": []
    },
    {
      "cell_type": "code",
      "execution_count": null,
      "id": "5387ed90",
      "metadata": {
        "id": "5387ed90",
        "outputId": "fa192b4e-20b0-4743-d09f-d606c57576e9"
      },
      "outputs": [
        {
          "name": "stdout",
          "output_type": "stream",
          "text": [
            "(113385, 11)\n",
            "(113385, 11)\n",
            "(113385, 3)\n"
          ]
        },
        {
          "data": {
            "text/plain": [
              "(26292, 3)"
            ]
          },
          "execution_count": 5,
          "metadata": {},
          "output_type": "execute_result"
        }
      ],
      "source": []
    }
  ],
  "metadata": {
    "kernelspec": {
      "display_name": "Python 3 (ipykernel)",
      "language": "python",
      "name": "python3"
    },
    "language_info": {
      "codemirror_mode": {
        "name": "ipython",
        "version": 3
      },
      "file_extension": ".py",
      "mimetype": "text/x-python",
      "name": "python",
      "nbconvert_exporter": "python",
      "pygments_lexer": "ipython3",
      "version": "3.9.12"
    },
    "colab": {
      "provenance": []
    }
  },
  "nbformat": 4,
  "nbformat_minor": 5
}